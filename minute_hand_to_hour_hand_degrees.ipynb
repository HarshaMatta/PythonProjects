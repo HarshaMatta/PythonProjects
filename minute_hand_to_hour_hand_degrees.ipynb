{
  "nbformat": 4,
  "nbformat_minor": 0,
  "metadata": {
    "colab": {
      "name": "minute hand to hour hand degrees",
      "version": "0.3.2",
      "provenance": [],
      "collapsed_sections": [],
      "include_colab_link": true
    },
    "kernelspec": {
      "name": "python3",
      "display_name": "Python 3"
    }
  },
  "cells": [
    {
      "cell_type": "markdown",
      "metadata": {
        "id": "view-in-github",
        "colab_type": "text"
      },
      "source": [
        "<a href=\"https://colab.research.google.com/github/HarshaMatta/PythonProjects/blob/master/minute_hand_to_hour_hand_degrees.ipynb\" target=\"_parent\"><img src=\"https://colab.research.google.com/assets/colab-badge.svg\" alt=\"Open In Colab\"/></a>"
      ]
    },
    {
      "cell_type": "code",
      "metadata": {
        "id": "oHsGn-R3lWFT",
        "colab_type": "code",
        "outputId": "48419b00-5382-4aba-c897-9295421d05c0",
        "colab": {
          "base_uri": "https://localhost:8080/",
          "height": 52
        }
      },
      "source": [
        "time = input()\n",
        "split = time.split(\":\")\n",
        "\n",
        "h = int(split[0])\n",
        "m = int(split[1])\n",
        "\n",
        "hourDeg = (h*30)+(m/2)\n",
        "\n",
        "minDeg= m*6\n",
        "\n",
        "\n",
        "deg = abs(hourDeg - minDeg)\n",
        "print(deg)"
      ],
      "execution_count": 0,
      "outputs": [
        {
          "output_type": "stream",
          "text": [
            "6:58\n",
            "139.0\n"
          ],
          "name": "stdout"
        }
      ]
    }
  ]
}